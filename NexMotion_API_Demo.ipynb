{
 "cells": [
  {
   "cell_type": "markdown",
   "metadata": {},
   "source": [
    "## Using NexMotion API to Control MiniBot\n",
    "### Pre-requirement:\n",
    "* Python2.7 32bit version (NexMotion.dll is 32bit version)\n",
    "* Create MiniBot Configuration from NexMotion Studio (NexMotionNcf.ncf)\n",
    "* For controlling real MiniBOT, do homing process in NexMotion Studio first.\n",
    "\n",
    "#### 1. Include Necessary Libarary with environment variable"
   ]
  },
  {
   "cell_type": "code",
   "execution_count": 1,
   "metadata": {},
   "outputs": [],
   "source": [
    "%config IPCompleter.greedy=True\n",
    "# include nexmotion library\n",
    "import nexmotion as nm\n",
    "from nexmotion.errors import *\n",
    "from nexmotion.constants import *\n",
    "import numpy as np\n",
    "import pandas as pd\n",
    "dll_path = None\n",
    "ini_path = None"
   ]
  },
  {
   "cell_type": "markdown",
   "metadata": {},
   "source": [
    "#### 2. Start Device"
   ]
  },
  {
   "cell_type": "code",
   "execution_count": 2,
   "metadata": {},
   "outputs": [
    {
     "name": "stdout",
     "output_type": "stream",
     "text": [
      "Dynamics library version = 10121027 ( 1 , 1 , 2 , 1027 )\n",
      "device id = 0\n"
     ]
    }
   ],
   "source": [
    "if dll_path is None:\n",
    "    nmc = nm.Control()  # will use default path for dll and ini file\n",
    "else:\n",
    "    nmc = nm.Control(dll_path=dll_path)\n",
    "    nmc.setIniPath(ini_path)\n",
    "ret = nmc.deviceOpenup(DEVICE_TYPE_SIMULATOR)  # use DEVICE_TYPE_ETHERCAT to connect real Minibot\n",
    "if ret != nm.errors.SUCCESS:\n",
    "    print( \"NMC_DeviceOpenUp error, error code =\", ret)"
   ]
  },
  {
   "cell_type": "markdown",
   "metadata": {},
   "source": [
    "#### 3. Check Device State\n",
    "Get the Device State.\n",
    "Here are the 4 possible state. If nothing wrong, the device state will be **4**\n",
    "\n",
    "| Name   |      Value      |  Description |\n",
    "|--------|:-------------:|------:|\n",
    "| NMC_DEVICE_STATE_INIT      | 1 | Initial |\n",
    "| NMC_DEVICE_STATE_READY     | 2 | Ready |\n",
    "| NMC_DEVICE_STATE_ERROR     | 3 | Error |\n",
    "| NMC_DEVICE_STATE_OPERATION | 4 | Operation |"
   ]
  },
  {
   "cell_type": "code",
   "execution_count": 3,
   "metadata": {},
   "outputs": [
    {
     "name": "stdout",
     "output_type": "stream",
     "text": [
      "device state = 4\n"
     ]
    }
   ],
   "source": [
    "ret = nmc.deviceGetState()\n",
    "if ret != SUCCESS:\n",
    "    print( \"NMC_DeviceGetState error, error code =\", ret)\n",
    "else:\n",
    "    if nmc.devState_.value != DEVICE_STATE_OPERATION:\n",
    "        print( \"device state is not OPERATION\" )\n",
    "    else:\n",
    "        print( \"device state =\", nmc.devState_.value)\n"
   ]
  },
  {
   "cell_type": "markdown",
   "metadata": {},
   "source": [
    "#### 4. Display Virtual Robot for visualization"
   ]
  },
  {
   "cell_type": "code",
   "execution_count": 4,
   "metadata": {
    "slideshow": {
     "slide_type": "-"
    }
   },
   "outputs": [
    {
     "data": {
      "text/plain": [
       "0"
      ]
     },
     "execution_count": 4,
     "metadata": {},
     "output_type": "execute_result"
    }
   ],
   "source": [
    "nmc.group3DShow(top_=True)\n",
    "nmc.group3DDrawPath(enable=True)"
   ]
  },
  {
   "cell_type": "markdown",
   "metadata": {},
   "source": [
    "#### 5. Get device information: Count of group"
   ]
  },
  {
   "cell_type": "code",
   "execution_count": 5,
   "metadata": {},
   "outputs": [
    {
     "name": "stdout",
     "output_type": "stream",
     "text": [
      "count of group index 1\n"
     ]
    }
   ],
   "source": [
    "nmc.deviceGetGroupCount()\n",
    "print( \"count of group index\", nmc.numGroup_.value)"
   ]
  },
  {
   "cell_type": "markdown",
   "metadata": {},
   "source": [
    "#### 6. Get device information: Count of Group Axis\n",
    "For MiniBot, the below code will output: 6"
   ]
  },
  {
   "cell_type": "code",
   "execution_count": 6,
   "metadata": {},
   "outputs": [
    {
     "name": "stdout",
     "output_type": "stream",
     "text": [
      "group index 0 : count of group axis =  6\n"
     ]
    }
   ],
   "source": [
    "nmc.deviceGetGroupAxisCount()\n",
    "print( \"group index\", nmc.index_.value, \": count of group axis = \", nmc.numGroupAxis_.value)"
   ]
  },
  {
   "cell_type": "markdown",
   "metadata": {},
   "source": [
    "#### 7. Clean alarm of drives of each group\n",
    "When sending movement command (such as moveLine, groupLine), the robot may not execute correctly (such as desired position is outside its workspace or in singular point. Then, the controller will set group state to `GROUP_ERROR_STOP`).\n",
    "These two are useful command to clean alarm or reset state of robot."
   ]
  },
  {
   "cell_type": "code",
   "execution_count": 4,
   "metadata": {},
   "outputs": [
    {
     "data": {
      "text/plain": [
       "0"
      ]
     },
     "execution_count": 4,
     "metadata": {},
     "output_type": "execute_result"
    }
   ],
   "source": [
    "nmc.groupResetDriveAlmAll()\n",
    "nmc.groupResetState()"
   ]
  },
  {
   "cell_type": "markdown",
   "metadata": {},
   "source": [
    "## 8. Check group state\n",
    "Here are all possible group (movement) state:\n",
    "Get the state of group. Please refer to the below table for details.\n",
    "\n",
    "|Value | State | Description | \n",
    "|------|:-------:|-------------:| \n",
    "| 0 | GROUP_DISABLE     | A group axis is disabled. | \n",
    "| 1 | GROUP_STAND_STILL | All group axes are enabled. | \n",
    "| 2 | GROUP_STOPPED     | After NMC_GroupStop() is called, the group is stopped. |\n",
    "| 3 | GROUP_STOPPING    | After NMC_GroupStop() is called, the group is stopping. |\n",
    "| 4 | GROUP_MOVING      | The group is moving. |\n",
    "| 5 | GROUP_HOMING      | The group is homing. |\n",
    "| 6 | GROUP_ERROR_STOP  | An error is occurred in a group axis. |\n",
    "\n",
    "##### Note: if Group State == 6 (error stop), please run step 7 to reset state.\n",
    "##### Note: if Group State == 0 (disable), please run step 9 to servo on in order to move robot arm.\n"
   ]
  },
  {
   "cell_type": "code",
   "execution_count": 6,
   "metadata": {},
   "outputs": [
    {
     "name": "stdout",
     "output_type": "stream",
     "text": [
      "Group State =  1\n"
     ]
    }
   ],
   "source": [
    "ret = nmc.groupGetState()\n",
    "if ret != SUCCESS:\n",
    "    print( \"groupGetState error, error code =\", ret)\n",
    "else:\n",
    "    print( \"Group State = \", nmc.groupState_.value)"
   ]
  },
  {
   "cell_type": "markdown",
   "metadata": {},
   "source": [
    "#### 9. Enable all axes of group (Servo On)\n",
    "MiniBot will make a sound when it is enabled.\n",
    "And, group sate will be changed (could run step **8** to check again)  \n",
    "Note: need to Enable before running any movement command"
   ]
  },
  {
   "cell_type": "code",
   "execution_count": 5,
   "metadata": {},
   "outputs": [
    {
     "name": "stdout",
     "output_type": "stream",
     "text": [
      "enable all done\n"
     ]
    }
   ],
   "source": [
    "ret = nmc.groupEnable()\n",
    "if ret != SUCCESS:\n",
    "    print( \"NMC_DeviceEnableAll error, error code =\", ret)\n",
    "else:\n",
    "    print( \"enable all done\" )"
   ]
  },
  {
   "cell_type": "markdown",
   "metadata": {},
   "source": [
    "#### 10. Show Actual Joint Position\n",
    "This step can be called to check actual joint values after you move or home the Minibot.  \n",
    "For controlling real MiniBOT, make sure you do homing process (or this command will not show correctly)"
   ]
  },
  {
   "cell_type": "code",
   "execution_count": 8,
   "metadata": {},
   "outputs": [
    {
     "name": "stdout",
     "output_type": "stream",
     "text": [
      "NMC_GroupGetActualPosAcs:\n",
      "   Joint 0 val: 0.003\n",
      "   Joint 1 val: 26.243\n",
      "   Joint 2 val: 0.003\n",
      "   Joint 3 val: 0.004\n",
      "   Joint 4 val: -29.028\n",
      "   Joint 5 val: 0.009\n"
     ]
    }
   ],
   "source": [
    "jntPos = [0.] * 6\n",
    "ret = nmc.groupGetActualPosAcs(jntPos)\n",
    "if ret != SUCCESS:\n",
    "    print( \"NMC_GroupGetActualPosAcs error, error code =\", ret)\n",
    "else:\n",
    "    print( \"NMC_GroupGetActualPosAcs:\")\n",
    "    for i in range(0, 6, 1):\n",
    "        print( \"   Joint\", i ,\"val:\", '%.3f' % jntPos[i])"
   ]
  },
  {
   "cell_type": "markdown",
   "metadata": {},
   "source": [
    "## 11. Execute Group PTP motion to a pre-define position\n",
    "##### Note: Please make sure all the joints are finish homing (if controlling real MiniBOT)"
   ]
  },
  {
   "cell_type": "code",
   "execution_count": 7,
   "metadata": {},
   "outputs": [
    {
     "data": {
      "text/plain": [
       "0"
      ]
     },
     "execution_count": 7,
     "metadata": {},
     "output_type": "execute_result"
    }
   ],
   "source": [
    "desPos = [0, 90, 0, 0, -90, 0]\n",
    "nmc.groupPtpAcsAll(desPos)"
   ]
  },
  {
   "cell_type": "markdown",
   "metadata": {},
   "source": [
    "#### 12. Show Actual Cartesian Position \n",
    "This step can be called to check actual cartesian values."
   ]
  },
  {
   "cell_type": "code",
   "execution_count": 9,
   "metadata": {},
   "outputs": [
    {
     "name": "stdout",
     "output_type": "stream",
     "text": [
      "groupGetActualPosPcs:\n",
      "\tx val: 400.877\n",
      "\ty val: 0.018\n",
      "\tz val: 313.021\n",
      "\ta val: -0.007\n",
      "\tb val: -0.423\n",
      "\tc val: -179.998\n"
     ]
    }
   ],
   "source": [
    "#get current cartesian value\n",
    "cartPos = [0.] * 6\n",
    "ret = nmc.groupGetActualPosPcs(cartPos)\n",
    "if ret != SUCCESS:\n",
    "    print( \"groupGetActualPosPcs error, error code =\", ret)\n",
    "else:\n",
    "    print( \"groupGetActualPosPcs:\")\n",
    "    coord_list = ['x', 'y', 'z', 'a', 'b', 'c']\n",
    "    for i in range(0, 6, 1):\n",
    "        print( \"\\t\", coord_list[i] ,\"val:\", '%.3f' % cartPos[i])"
   ]
  },
  {
   "cell_type": "markdown",
   "metadata": {},
   "source": [
    "## 13. Execute Group Line motion to a pre-define position\n",
    "##### `Note: Please make sure all the joints are finish homing`"
   ]
  },
  {
   "cell_type": "code",
   "execution_count": 10,
   "metadata": {},
   "outputs": [
    {
     "data": {
      "text/plain": [
       "0"
      ]
     },
     "execution_count": 10,
     "metadata": {},
     "output_type": "execute_result"
    }
   ],
   "source": [
    "pos = [0.] * 6\n",
    "nmc.groupGetActualPosPcs(pos)\n",
    "pos[0] += 50; pos[1] += -100; pos[2] += -150\n",
    "nmc.groupLine(pos)"
   ]
  },
  {
   "cell_type": "markdown",
   "metadata": {},
   "source": [
    "#### 15. record current pose (Joint space and Cartesian space)"
   ]
  },
  {
   "cell_type": "code",
   "execution_count": 13,
   "metadata": {},
   "outputs": [
    {
     "data": {
      "text/plain": [
       "0"
      ]
     },
     "execution_count": 13,
     "metadata": {},
     "output_type": "execute_result"
    }
   ],
   "source": [
    "nmc.recordPoint()"
   ]
  },
  {
   "cell_type": "markdown",
   "metadata": {},
   "source": [
    "#### 16. show recorded points"
   ]
  },
  {
   "cell_type": "code",
   "execution_count": 12,
   "metadata": {},
   "outputs": [
    {
     "name": "stdout",
     "output_type": "stream",
     "text": [
      "          j1         j2            j3            j4         j5            j6  \\\n",
      "0  30.465682  33.361364 -3.349773e+00  2.168404e-19 -30.012750  3.046275e+01   \n",
      "1  23.806364  37.009091 -1.116409e+01  2.168404e-19 -25.846875  2.380500e+01   \n",
      "2   0.000682  90.000000 -1.525466e-13  2.168404e-19 -89.998875 -8.046515e-15   \n",
      "3 -23.197500  56.781818 -2.507045e+00  2.168404e-19 -54.274500 -2.319750e+01   \n",
      "4 -23.961136  43.082045 -4.224545e+00  2.168404e-19 -38.857500 -2.396250e+01   \n",
      "\n",
      "            x           y           z             a             b           c  \n",
      "0  339.999206  200.000626  200.010617  2.931813e-03  9.990888e-04  179.999412  \n",
      "1  339.995877  150.001159  200.006932  1.363625e-03  1.715483e-03  179.999243  \n",
      "2  250.001865    0.002975  564.000000  6.818182e-04 -1.125000e-03  180.000000  \n",
      "3  350.001493 -149.992755  364.000805  2.344101e-10 -2.506779e-04  179.999893  \n",
      "4  359.999931 -159.989792  264.001042  1.363636e-03  2.983448e-11 -180.000000  \n"
     ]
    }
   ],
   "source": [
    "df = pd.DataFrame(data=nmc.pnt_list, \n",
    "                  columns=['j1','j2','j3','j4','j5','j6','x','y','z','a','b','c'])\n",
    "#df.to_csv(\"temp_pnt.csv\")\n",
    "print( df)"
   ]
  },
  {
   "cell_type": "markdown",
   "metadata": {},
   "source": [
    "## 17. move PTP like GRC"
   ]
  },
  {
   "cell_type": "code",
   "execution_count": 22,
   "metadata": {},
   "outputs": [
    {
     "data": {
      "text/plain": [
       "0"
      ]
     },
     "execution_count": 22,
     "metadata": {},
     "output_type": "execute_result"
    }
   ],
   "source": [
    "nmc.movePTP(1)"
   ]
  },
  {
   "cell_type": "markdown",
   "metadata": {},
   "source": [
    "## 18 moveLine like GRC"
   ]
  },
  {
   "cell_type": "code",
   "execution_count": 12,
   "metadata": {},
   "outputs": [
    {
     "data": {
      "text/plain": [
       "0"
      ]
     },
     "execution_count": 12,
     "metadata": {},
     "output_type": "execute_result"
    }
   ],
   "source": [
    "nmc.moveLine(4)"
   ]
  },
  {
   "cell_type": "markdown",
   "metadata": {},
   "source": [
    "## 19. Halt Robot Movement"
   ]
  },
  {
   "cell_type": "code",
   "execution_count": 41,
   "metadata": {},
   "outputs": [
    {
     "data": {
      "text/plain": [
       "0"
      ]
     },
     "execution_count": 41,
     "metadata": {},
     "output_type": "execute_result"
    }
   ],
   "source": [
    "nmc.groupHalt()"
   ]
  },
  {
   "cell_type": "markdown",
   "metadata": {},
   "source": [
    "## 20. Set DO value\n",
    "Use Digital Output to control gripper or suctions."
   ]
  },
  {
   "cell_type": "code",
   "execution_count": 31,
   "metadata": {},
   "outputs": [
    {
     "data": {
      "text/plain": [
       "0"
      ]
     },
     "execution_count": 31,
     "metadata": {},
     "output_type": "execute_result"
    }
   ],
   "source": [
    "DO_list = [[0,2,4],[]]  # Turn digital oupt 0, 2, 4 to `on` and other to `off`\n",
    "nmc.writeOutputMemory(DO_list)"
   ]
  },
  {
   "cell_type": "markdown",
   "metadata": {},
   "source": [
    "### Write Script "
   ]
  },
  {
   "cell_type": "code",
   "execution_count": 43,
   "metadata": {},
   "outputs": [
    {
     "data": {
      "text/plain": [
       "0"
      ]
     },
     "execution_count": 43,
     "metadata": {},
     "output_type": "execute_result"
    }
   ],
   "source": [
    "import time\n",
    "nmc.movePTP(0)\n",
    "nmc.movePTP(1)\n",
    "nmc.movePTP(2)\n",
    "nmc.moveLine(3)\n",
    "nmc.writeOutputMemory([[2],[]])\n",
    "for i in xrange(2):\n",
    "    nmc.moveLine(4)\n",
    "    nmc.moveLine(3)\n",
    "nmc.writeOutputMemory([[],[]])\n",
    "nmc.moveLine(2)\n",
    "nmc.moveLine(1)\n",
    "nmc.movePTP(0)\n"
   ]
  },
  {
   "cell_type": "markdown",
   "metadata": {},
   "source": [
    "### Save and Read Point from csv file"
   ]
  },
  {
   "cell_type": "code",
   "execution_count": 21,
   "metadata": {},
   "outputs": [],
   "source": [
    "nmc.savePoint('test_pnt.csv')"
   ]
  },
  {
   "cell_type": "code",
   "execution_count": 11,
   "metadata": {},
   "outputs": [
    {
     "name": "stdout",
     "output_type": "stream",
     "text": [
      "['0', '30.465681818181217', '33.361363636356245', '-3.349772727272639', '2.168404344971009e-19', '-30.01275000000994', '30.46275000000095', '339.999205647997', '200.0006262045144', '200.01061662089927', '0.0029318130568759264', '0.000999088794146131', '179.99941236630718']\n",
      "['1', '23.80636363636341', '37.00909090908368', '-11.164090909090831', '2.168404344971009e-19', '-25.84687500001049', '23.805000000000696', '339.9958768768381', '150.00115921347776', '200.00693223088035', '0.0013636250331441745', '0.0017154833568307926', '179.99924320285496']\n",
      "['2', '0.0006818181813115057', '89.99999999999153', '-1.5254659514740698e-13', '2.168404344971009e-19', '-89.99887500001594', '-8.04651484331842e-15', '250.00186530294343', '0.002975015238154895', '564.0000000182752', '0.0006818181813115058', '-0.001124999975428993', '180.0']\n",
      "['3', '-23.197500000001327', '56.781818181808895', '-2.5070454545455974', '2.168404344971009e-19', '-54.274500000021696', '-23.19750000000073', '350.00149264813945', '-149.9927546147986', '364.0008054303609', '2.344100605807862e-10', '-0.00025067793339308064', '179.99989257224743']\n",
      "['4', '-23.961136363636996', '43.08204545453529', '-4.2245454545455985', '2.168404344971009e-19', '-38.85750000002234', '-23.96250000000076', '359.9999309595713', '-159.98979196232494', '264.00104200153334', '0.0013636363637647253', '2.9834476751538e-11', '-179.99999999998676']\n"
     ]
    }
   ],
   "source": [
    "nmc.readPoint('test_pnt.csv')"
   ]
  },
  {
   "cell_type": "markdown",
   "metadata": {},
   "source": [
    "### Compute Base transformation pose"
   ]
  },
  {
   "cell_type": "code",
   "execution_count": 14,
   "metadata": {},
   "outputs": [
    {
     "name": "stdout",
     "output_type": "stream",
     "text": [
      "[339.999205647997, 200.0006262045144, 200.01061662089927, -90.0038145314253, -0.0, 0.0]\n"
     ]
    }
   ],
   "source": [
    "coordTrans = [0.]*6\n",
    "nmc.baseCalib_2p(nmc.pnt_list[0][6:], nmc.pnt_list[1][6:], coordTrans)\n",
    "print coordTrans"
   ]
  },
  {
   "cell_type": "markdown",
   "metadata": {},
   "source": [
    "### Get Transformation matrix"
   ]
  },
  {
   "cell_type": "code",
   "execution_count": 18,
   "metadata": {},
   "outputs": [
    {
     "name": "stdout",
     "output_type": "stream",
     "text": [
      "[[   0.      1.      0.    340.  ]\n",
      " [  -1.      0.      0.    200.  ]\n",
      " [   0.      0.      1.    200.01]\n",
      " [   0.      0.      0.      1.  ]]\n"
     ]
    }
   ],
   "source": [
    "TrMat = nm.pose2matrix(coordTrans)\n",
    "print np.around(TrMat, decimals=2)"
   ]
  },
  {
   "cell_type": "code",
   "execution_count": 24,
   "metadata": {},
   "outputs": [
    {
     "name": "stdout",
     "output_type": "stream",
     "text": [
      "[339.9926569616489, 149.99973863444632, 200.00251013684613, -0.0008864073264666338, 0.0033685271050913324, 179.99851379333722]\n",
      "[[  0.   1.   0.  50.]\n",
      " [  1.   0.   0.   0.]\n",
      " [  0.   0.  -1.   0.]\n",
      " [  0.   0.   0.   1.]]\n",
      "[[ 50.]\n",
      " [  0.]\n",
      " [  0.]\n",
      " [  1.]]\n",
      "[[   0.      1.      0.    340.  ]\n",
      " [  -1.      0.      0.    150.  ]\n",
      " [   0.      0.      1.    200.01]\n",
      " [   0.      0.      0.      1.  ]]\n",
      "[[ 339.98]\n",
      " [ -50.  ]\n",
      " [ 200.01]\n",
      " [   1.  ]]\n"
     ]
    }
   ],
   "source": [
    "# From robot-base position transform to pixel-based position\n",
    "pos = [0.] * 6\n",
    "nmc.groupGetActualPosPcs(pos)\n",
    "print pos\n",
    "TrInv = np.linalg.inv(TrMat)\n",
    "tcpMat = nm.pose2matrix(pos) # [340, 200, 200, 0, 0, 180]\n",
    "print np.around(TrInv.dot(tcpMat), decimals=1)\n",
    "print np.around(TrInv.dot(np.mat([340, 150, 200, 1]).transpose()), decimals=1)\n",
    "\n",
    "# From pixel-base position transform to robot-base position\n",
    "pixMat = nm.pose2matrix([50, 0, 0, 0, 0, 0])\n",
    "print np.around(TrMat.dot(pixMat), decimals=2)\n",
    "print np.around(TrMat.dot(np.mat([250, 0, 0, 1]).transpose()), decimals=2)"
   ]
  },
  {
   "cell_type": "markdown",
   "metadata": {},
   "source": [
    "#### 21. Disable all axes of group (Servo Off)\n",
    "MiniBot will make a sound when it is disabled."
   ]
  },
  {
   "cell_type": "code",
   "execution_count": 25,
   "metadata": {},
   "outputs": [
    {
     "data": {
      "text/plain": [
       "0"
      ]
     },
     "execution_count": 25,
     "metadata": {},
     "output_type": "execute_result"
    }
   ],
   "source": [
    "nmc.groupDisable()"
   ]
  },
  {
   "cell_type": "markdown",
   "metadata": {},
   "source": [
    "#### 22. Shutdown device"
   ]
  },
  {
   "cell_type": "code",
   "execution_count": 26,
   "metadata": {},
   "outputs": [
    {
     "data": {
      "text/plain": [
       "0"
      ]
     },
     "execution_count": 26,
     "metadata": {},
     "output_type": "execute_result"
    }
   ],
   "source": [
    "nmc.deviceShutdown()"
   ]
  },
  {
   "cell_type": "code",
   "execution_count": null,
   "metadata": {},
   "outputs": [],
   "source": []
  }
 ],
 "metadata": {
  "kernelspec": {
   "display_name": "Python3.5 32bits",
   "language": "python",
   "name": "py35_32"
  },
  "language_info": {
   "codemirror_mode": {
    "name": "ipython",
    "version": 3
   },
   "file_extension": ".py",
   "mimetype": "text/x-python",
   "name": "python",
   "nbconvert_exporter": "python",
   "pygments_lexer": "ipython3",
   "version": "3.5.6"
  }
 },
 "nbformat": 4,
 "nbformat_minor": 4
}

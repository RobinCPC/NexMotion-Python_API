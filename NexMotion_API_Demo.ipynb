{
 "cells": [
  {
   "cell_type": "markdown",
   "metadata": {},
   "source": [
    "## Using NexMotion API to Control MiniBot\n",
    "### Pre-requirement:\n",
    "* Python2.7 32bit version (NexMotion.dll is 32bit version)\n",
    "* Create MiniBot Configuration from NexMotion Studio (NexMotionNcf.ncf)\n",
    "* For controlling real MiniBOT, do homing process in NexMotion Studio first.\n",
    "\n",
    "### How to run this demo\n",
    "* Select each cell by left click it (such as click on `[1]` ) and press `shift+Enter` to run the cell. Also, could press direction key (up/down) to select cells.\n",
    "* (Option) You cloud left click inside area of each cell if you want to change scripts and test.\n",
    "* (Option) In JupyterLab mode, Right Click it and select `Create New View for Output`. \n",
    "\n",
    "#### 1. Include Necessary Libarary with environment variable"
   ]
  },
  {
   "cell_type": "code",
   "execution_count": 1,
   "metadata": {},
   "outputs": [],
   "source": [
    "%config IPCompleter.greedy=True\n",
    "# include nexmotion library\n",
    "import nexmotion as nm\n",
    "from nexmotion.errors import *\n",
    "from nexmotion.constants import *\n",
    "import numpy as np\n",
    "import pandas as pd\n",
    "dll_path = None"
   ]
  },
  {
   "cell_type": "markdown",
   "metadata": {},
   "source": [
    "#### 2. Start Device\n",
    "Note: It will take few second to load NexMotion.dll. the cell indicator will change from `[*]` to `[number]` when finish."
   ]
  },
  {
   "cell_type": "code",
   "execution_count": 2,
   "metadata": {},
   "outputs": [
    {
     "name": "stdout",
     "output_type": "stream",
     "text": [
      "Dynamics library version = 10121027 ( 1 , 1 , 2 , 1027 )\n",
      "device id = 0\n"
     ]
    }
   ],
   "source": [
    "if dll_path is None:\n",
    "    nmc = nm.Control()  # will use default path for dll and ini file\n",
    "else:\n",
    "    nmc = nm.Control(dll_path=dll_path)\n",
    "ret = nmc.deviceOpenup(DEVICE_TYPE_SIMULATOR)  # use DEVICE_TYPE_ETHERCAT to connect real Minibot\n",
    "if ret != nm.errors.SUCCESS:\n",
    "    print( \"NMC_DeviceOpenUp error, error code =\", ret)"
   ]
  },
  {
   "cell_type": "markdown",
   "metadata": {},
   "source": [
    "#### 3. Check Device State\n",
    "Get the Device State.\n",
    "Here are the 4 possible state. If nothing wrong, the device state will be **4**\n",
    "\n",
    "| Name   |      Value      |  Description |\n",
    "|--------|:-------------:|------:|\n",
    "| NMC_DEVICE_STATE_INIT      | 1 | Initial |\n",
    "| NMC_DEVICE_STATE_READY     | 2 | Ready |\n",
    "| NMC_DEVICE_STATE_ERROR     | 3 | Error |\n",
    "| NMC_DEVICE_STATE_OPERATION | 4 | Operation |"
   ]
  },
  {
   "cell_type": "code",
   "execution_count": 3,
   "metadata": {},
   "outputs": [
    {
     "name": "stdout",
     "output_type": "stream",
     "text": [
      "device state = 4\n"
     ]
    }
   ],
   "source": [
    "ret = nmc.deviceGetState()\n",
    "if ret != SUCCESS:\n",
    "    print( \"NMC_DeviceGetState error, error code =\", ret)\n",
    "else:\n",
    "    if nmc.devState_.value != DEVICE_STATE_OPERATION:\n",
    "        print( \"device state is not OPERATION\" )\n",
    "    else:\n",
    "        print( \"device state =\", nmc.devState_.value)\n"
   ]
  },
  {
   "cell_type": "markdown",
   "metadata": {},
   "source": [
    "#### 4. Display Virtual Robot for visualization"
   ]
  },
  {
   "cell_type": "code",
   "execution_count": 4,
   "metadata": {
    "slideshow": {
     "slide_type": "-"
    }
   },
   "outputs": [
    {
     "name": "stdout",
     "output_type": "stream",
     "text": [
      "The NexMotion built-in 3D Robot View will not show on the JupyterHub (MyBinder).\n",
      "Use following maplotlib-based class to create a 3D tf View.\n"
     ]
    }
   ],
   "source": [
    "# It Will show up on the desktop, not Jupyter (also not work on JupyterHub demo).\n",
    "if nm.api.HAS_ZUGBRUECKE is None:\n",
    "    nmc.group3DShow(top_=True)\n",
    "    nmc.group3DDrawPath(enable=True)\n",
    "    print(\"The NexMotion built-in 3D Robot View will show up on the pc desktop, no Jupyter.\")\n",
    "else:\n",
    "    print(\"The NexMotion built-in 3D Robot View will not show on the JupyterHub (MyBinder).\")\n",
    "    print(\"Use following maplotlib-based class to create a 3D tf View.\")"
   ]
  },
  {
   "cell_type": "markdown",
   "metadata": {},
   "source": [
    "### Testing Robot 3D tf View\n",
    "This cell show how to use MplVisual Class, matplotlib-base, to show transformation coordination of each joint in 3D (like ROS-RViz tf view).\n",
    "\n",
    "#### Hint: \n",
    "In JupyterLab mode, Right Click it (left `[#]`) and select `Create New View for Output`. JupyterLab will put 3D tf view on another tab. Make it easy to check when running the rest of cell.\n",
    "\n",
    "Note: Currently, the tf view will not automatically update when you move robot joints. you need to run `nmv.update_tf_view(jnt_pos)` manually."
   ]
  },
  {
   "cell_type": "code",
   "execution_count": 5,
   "metadata": {},
   "outputs": [
    {
     "data": {
      "application/vnd.jupyter.widget-view+json": {
       "model_id": "c1bc2bbd152b42e4980ac4ad02fa54e3",
       "version_major": 2,
       "version_minor": 0
      },
      "text/plain": [
       "Canvas(toolbar=Toolbar(toolitems=[('Home', 'Reset original view', 'home', 'home'), ('Back', 'Back to previous …"
      ]
     },
     "metadata": {},
     "output_type": "display_data"
    }
   ],
   "source": [
    "%matplotlib widget\n",
    "import matplotlib.pyplot as plt\n",
    "from mpl_toolkits.mplot3d import axes3d\n",
    "\n",
    "# Create figure canvas to hold 3D tf view\n",
    "fig = plt.figure()\n",
    "ax = fig.add_subplot(111, projection='3d')\n",
    "\n",
    "# Initial MplVisual class with built-in dh parameter\n",
    "nmv = nm.api.MplVisual(ax)   \n",
    "\n",
    "# Compute tf matrix with initial joint value (0, 90, 0, 0, -90, 0)\n",
    "nmv.get_tf_data()\n",
    "nmv.draw_tf_view()  # Draw 3D tf view by Matplotlib\n",
    "fig.show()"
   ]
  },
  {
   "cell_type": "code",
   "execution_count": 6,
   "metadata": {},
   "outputs": [],
   "source": [
    "nmv.update_tf_view([0, 45, 0, 0, -45, 90])"
   ]
  },
  {
   "cell_type": "markdown",
   "metadata": {},
   "source": [
    "#### 5. Get device information: Count of group"
   ]
  },
  {
   "cell_type": "code",
   "execution_count": 7,
   "metadata": {},
   "outputs": [
    {
     "name": "stdout",
     "output_type": "stream",
     "text": [
      "count of group index 1\n"
     ]
    }
   ],
   "source": [
    "nmc.deviceGetGroupCount()\n",
    "print( \"count of group index\", nmc.numGroup_.value)"
   ]
  },
  {
   "cell_type": "markdown",
   "metadata": {},
   "source": [
    "#### 6. Get device information: Count of Group Axis\n",
    "For MiniBot, the below code will output: 6"
   ]
  },
  {
   "cell_type": "code",
   "execution_count": 8,
   "metadata": {},
   "outputs": [
    {
     "name": "stdout",
     "output_type": "stream",
     "text": [
      "group index 0 : count of group axis =  6\n"
     ]
    }
   ],
   "source": [
    "nmc.deviceGetGroupAxisCount()\n",
    "print( \"group index\", nmc.index_.value, \": count of group axis = \", nmc.numGroupAxis_.value)"
   ]
  },
  {
   "cell_type": "markdown",
   "metadata": {},
   "source": [
    "#### 7. Clean alarm of drives of each group\n",
    "When sending movement command (such as moveLine, groupLine), the robot may not execute correctly (such as desired position is outside its workspace or in singular point. Then, the controller will set group state to `GROUP_ERROR_STOP`).\n",
    "These two are useful command to clean alarm or reset state of robot."
   ]
  },
  {
   "cell_type": "code",
   "execution_count": 9,
   "metadata": {},
   "outputs": [
    {
     "data": {
      "text/plain": [
       "0"
      ]
     },
     "execution_count": 9,
     "metadata": {},
     "output_type": "execute_result"
    }
   ],
   "source": [
    "nmc.groupResetDriveAlmAll()\n",
    "nmc.groupResetState()"
   ]
  },
  {
   "cell_type": "markdown",
   "metadata": {},
   "source": [
    "## 8. Check group state\n",
    "Here are all possible group (movement) state:\n",
    "Get the state of group. Please refer to the below table for details.\n",
    "\n",
    "|Value | State | Description | \n",
    "|------|:-------:|-------------:| \n",
    "| 0 | GROUP_DISABLE     | A group axis is disabled. | \n",
    "| 1 | GROUP_STAND_STILL | All group axes are enabled. | \n",
    "| 2 | GROUP_STOPPED     | After NMC_GroupStop() is called, the group is stopped. |\n",
    "| 3 | GROUP_STOPPING    | After NMC_GroupStop() is called, the group is stopping. |\n",
    "| 4 | GROUP_MOVING      | The group is moving. |\n",
    "| 5 | GROUP_HOMING      | The group is homing. |\n",
    "| 6 | GROUP_ERROR_STOP  | An error is occurred in a group axis. |\n",
    "\n",
    "##### Note: if Group State == 6 (error stop), please run step 7 to reset state.\n",
    "##### Note: if Group State == 0 (disable), please run step 9 to servo on in order to move robot arm.\n"
   ]
  },
  {
   "cell_type": "code",
   "execution_count": 11,
   "metadata": {},
   "outputs": [
    {
     "name": "stdout",
     "output_type": "stream",
     "text": [
      "Group State =  1\n"
     ]
    }
   ],
   "source": [
    "ret = nmc.groupGetState()\n",
    "if ret != SUCCESS:\n",
    "    print( \"groupGetState error, error code =\", ret)\n",
    "else:\n",
    "    print( \"Group State = \", nmc.groupState_.value)"
   ]
  },
  {
   "cell_type": "markdown",
   "metadata": {},
   "source": [
    "#### 9. Enable all axes of group (Servo On)\n",
    "MiniBot will make a sound when it is enabled.\n",
    "And, group sate will be changed (could run step **8** to check again)  \n",
    "Note: need to Enable before running any movement command"
   ]
  },
  {
   "cell_type": "code",
   "execution_count": 10,
   "metadata": {},
   "outputs": [
    {
     "name": "stdout",
     "output_type": "stream",
     "text": [
      "enable all done\n"
     ]
    }
   ],
   "source": [
    "ret = nmc.groupEnable()\n",
    "if ret != SUCCESS:\n",
    "    print( \"NMC_DeviceEnableAll error, error code =\", ret)\n",
    "else:\n",
    "    print( \"enable all done\" )"
   ]
  },
  {
   "cell_type": "markdown",
   "metadata": {},
   "source": [
    "### 10. Show Actual Joint Position\n",
    "This step can be called to check actual joint values after you move or home the Minibot.  \n",
    "For controlling real MiniBOT, make sure you do homing process (or this command will not show correctly)\n",
    "\n",
    "#### Note:\n",
    "After run below cell, click `Run Interact` to get current joint values and update the tf view. \n",
    "You could right click and select `Create New View for Output` and move `Run Interact` button wiht the tf view. It is quick to get join value and update the tf view. "
   ]
  },
  {
   "cell_type": "code",
   "execution_count": 12,
   "metadata": {},
   "outputs": [
    {
     "data": {
      "application/vnd.jupyter.widget-view+json": {
       "model_id": "7f26d779ebb042738ca942abf297f8e7",
       "version_major": 2,
       "version_minor": 0
      },
      "text/plain": [
       "interactive(children=(Button(description='Run Interact', style=ButtonStyle()), Output()), _dom_classes=('widge…"
      ]
     },
     "metadata": {},
     "output_type": "display_data"
    }
   ],
   "source": [
    "from ipywidgets import interact_manual\n",
    "\n",
    "@interact_manual\n",
    "def get_joint_value():\n",
    "    jntPos = [0.] * 6\n",
    "    ret = nmc.groupGetActualPosAcs(jntPos)\n",
    "    if ret != SUCCESS:\n",
    "        print( \"NMC_GroupGetActualPosAcs error, error code =\", ret)\n",
    "    else:\n",
    "        print( \"NMC_GroupGetActualPosAcs:\")\n",
    "        for i in range(0, 6, 1):\n",
    "            print( \"   Joint\", i ,\"val:\", '%.3f' % jntPos[i])\n",
    "        nmv.update_tf_view(jntPos)"
   ]
  },
  {
   "cell_type": "markdown",
   "metadata": {},
   "source": [
    "## 11. Execute Group PTP motion to a pre-define position\n",
    "##### Note: Please make sure all the joints are finish homing (if controlling real MiniBOT)"
   ]
  },
  {
   "cell_type": "code",
   "execution_count": 13,
   "metadata": {},
   "outputs": [
    {
     "data": {
      "text/plain": [
       "0"
      ]
     },
     "execution_count": 13,
     "metadata": {},
     "output_type": "execute_result"
    }
   ],
   "source": [
    "desPos = [0, 90, 0, 0, -90, 0]\n",
    "nmc.groupPtpAcsAll(desPos)"
   ]
  },
  {
   "cell_type": "markdown",
   "metadata": {},
   "source": [
    "#### 12. Show Actual Cartesian Position \n",
    "This step can be called to check actual cartesian values."
   ]
  },
  {
   "cell_type": "code",
   "execution_count": 16,
   "metadata": {},
   "outputs": [
    {
     "name": "stdout",
     "output_type": "stream",
     "text": [
      "groupGetActualPosPcs:\n",
      "\t x val: 300.000\n",
      "\t y val: -99.992\n",
      "\t z val: 414.005\n",
      "\t a val: -0.002\n",
      "\t b val: 0.001\n",
      "\t c val: -180.000\n"
     ]
    }
   ],
   "source": [
    "#get current cartesian value\n",
    "cartPos = [0.] * 6\n",
    "ret = nmc.groupGetActualPosPcs(cartPos)\n",
    "if ret != SUCCESS:\n",
    "    print( \"groupGetActualPosPcs error, error code =\", ret)\n",
    "else:\n",
    "    print( \"groupGetActualPosPcs:\")\n",
    "    coord_list = ['x', 'y', 'z', 'a', 'b', 'c']\n",
    "    for i in range(0, 6, 1):\n",
    "        print( \"\\t\", coord_list[i] ,\"val:\", '%.3f' % cartPos[i])"
   ]
  },
  {
   "cell_type": "markdown",
   "metadata": {},
   "source": [
    "## 13. Execute Group Line motion to a pre-define position\n",
    "##### `Note: Please make sure all the joints are finish homing`"
   ]
  },
  {
   "cell_type": "code",
   "execution_count": 15,
   "metadata": {},
   "outputs": [
    {
     "data": {
      "text/plain": [
       "0"
      ]
     },
     "execution_count": 15,
     "metadata": {},
     "output_type": "execute_result"
    }
   ],
   "source": [
    "pos = [0.] * 6\n",
    "nmc.groupGetActualPosPcs(pos)\n",
    "pos[0] += 50; pos[1] += -100; pos[2] += -150\n",
    "nmc.groupLine(pos)"
   ]
  },
  {
   "cell_type": "markdown",
   "metadata": {},
   "source": [
    "### 15. record current pose (Joint space and Cartesian space)"
   ]
  },
  {
   "cell_type": "code",
   "execution_count": 17,
   "metadata": {},
   "outputs": [
    {
     "data": {
      "text/plain": [
       "0"
      ]
     },
     "execution_count": 17,
     "metadata": {},
     "output_type": "execute_result"
    }
   ],
   "source": [
    "nmc.recordPoint()"
   ]
  },
  {
   "cell_type": "markdown",
   "metadata": {},
   "source": [
    "### Save and Read Point from csv file"
   ]
  },
  {
   "cell_type": "code",
   "execution_count": 18,
   "metadata": {},
   "outputs": [],
   "source": [
    "nmc.savePoint('test_pnt.csv')"
   ]
  },
  {
   "cell_type": "code",
   "execution_count": 19,
   "metadata": {},
   "outputs": [],
   "source": [
    "# Note: this will remove prvious record point list.\n",
    "nmc.readPoint('record_pnt.csv')"
   ]
  },
  {
   "cell_type": "markdown",
   "metadata": {},
   "source": [
    "#### 16. show recorded points"
   ]
  },
  {
   "cell_type": "code",
   "execution_count": 20,
   "metadata": {},
   "outputs": [
    {
     "data": {
      "text/html": [
       "<table border=\"1\" class=\"dataframe\">\n",
       "  <thead>\n",
       "    <tr style=\"text-align: right;\">\n",
       "      <th></th>\n",
       "      <th>j1</th>\n",
       "      <th>j2</th>\n",
       "      <th>j3</th>\n",
       "      <th>j4</th>\n",
       "      <th>j5</th>\n",
       "      <th>j6</th>\n",
       "      <th>x</th>\n",
       "      <th>y</th>\n",
       "      <th>z</th>\n",
       "      <th>a</th>\n",
       "      <th>b</th>\n",
       "      <th>c</th>\n",
       "    </tr>\n",
       "  </thead>\n",
       "  <tbody>\n",
       "    <tr>\n",
       "      <th>0</th>\n",
       "      <td>0.002045</td>\n",
       "      <td>53.142955</td>\n",
       "      <td>0.002045</td>\n",
       "      <td>2.700000e-03</td>\n",
       "      <td>-51.925500</td>\n",
       "      <td>6.750000e-03</td>\n",
       "      <td>394.001421</td>\n",
       "      <td>0.017590</td>\n",
       "      <td>350.118086</td>\n",
       "      <td>-0.006372</td>\n",
       "      <td>-1.219500</td>\n",
       "      <td>-179.997695</td>\n",
       "    </tr>\n",
       "    <tr>\n",
       "      <th>1</th>\n",
       "      <td>0.000682</td>\n",
       "      <td>90.000000</td>\n",
       "      <td>0.000682</td>\n",
       "      <td>9.000000e-04</td>\n",
       "      <td>-90.000000</td>\n",
       "      <td>-8.673617e-19</td>\n",
       "      <td>250.000297</td>\n",
       "      <td>0.004467</td>\n",
       "      <td>564.002975</td>\n",
       "      <td>0.000682</td>\n",
       "      <td>-0.000682</td>\n",
       "      <td>-179.999100</td>\n",
       "    </tr>\n",
       "    <tr>\n",
       "      <th>2</th>\n",
       "      <td>14.689773</td>\n",
       "      <td>97.049318</td>\n",
       "      <td>-26.008636</td>\n",
       "      <td>2.168404e-19</td>\n",
       "      <td>-71.041500</td>\n",
       "      <td>1.468800e+01</td>\n",
       "      <td>221.028975</td>\n",
       "      <td>57.943699</td>\n",
       "      <td>477.088505</td>\n",
       "      <td>0.001773</td>\n",
       "      <td>0.000791</td>\n",
       "      <td>179.999793</td>\n",
       "    </tr>\n",
       "    <tr>\n",
       "      <th>3</th>\n",
       "      <td>-16.078636</td>\n",
       "      <td>82.436591</td>\n",
       "      <td>-46.300227</td>\n",
       "      <td>2.168404e-19</td>\n",
       "      <td>-36.137250</td>\n",
       "      <td>-1.607850e+01</td>\n",
       "      <td>227.599172</td>\n",
       "      <td>-65.601201</td>\n",
       "      <td>331.200639</td>\n",
       "      <td>-0.000136</td>\n",
       "      <td>0.000852</td>\n",
       "      <td>-179.999755</td>\n",
       "    </tr>\n",
       "    <tr>\n",
       "      <th>4</th>\n",
       "      <td>-38.658409</td>\n",
       "      <td>55.913864</td>\n",
       "      <td>-27.647727</td>\n",
       "      <td>2.168404e-19</td>\n",
       "      <td>-28.265625</td>\n",
       "      <td>-3.865725e+01</td>\n",
       "      <td>250.004292</td>\n",
       "      <td>-199.993421</td>\n",
       "      <td>264.009383</td>\n",
       "      <td>-0.001159</td>\n",
       "      <td>-0.000399</td>\n",
       "      <td>179.999681</td>\n",
       "    </tr>\n",
       "  </tbody>\n",
       "</table>"
      ],
      "text/plain": [
       "<IPython.core.display.HTML object>"
      ]
     },
     "metadata": {},
     "output_type": "display_data"
    }
   ],
   "source": [
    "from IPython.display import display, HTML\n",
    "\n",
    "df = pd.DataFrame(data=nmc.pnt_list, \n",
    "                  columns=['j1','j2','j3','j4','j5','j6','x','y','z','a','b','c'])\n",
    "\n",
    "display( HTML(df.to_html()) )"
   ]
  },
  {
   "cell_type": "markdown",
   "metadata": {},
   "source": [
    "## 17. move PTP similar to GRC\n",
    "Note: movePTP is blocking call function. The `Run Interact` button will not response before move command finished.   Please wait the cell from `[*]`(busy) to `[number]`(finsih)"
   ]
  },
  {
   "cell_type": "code",
   "execution_count": 21,
   "metadata": {},
   "outputs": [
    {
     "data": {
      "text/plain": [
       "0"
      ]
     },
     "execution_count": 21,
     "metadata": {},
     "output_type": "execute_result"
    }
   ],
   "source": [
    "nmc.movePTP(1)"
   ]
  },
  {
   "cell_type": "markdown",
   "metadata": {},
   "source": [
    "## 18 move Line similar to GRC\n",
    "Note: Same as movePTP, moveLine is blocking call function."
   ]
  },
  {
   "cell_type": "code",
   "execution_count": 22,
   "metadata": {},
   "outputs": [
    {
     "data": {
      "text/plain": [
       "0"
      ]
     },
     "execution_count": 22,
     "metadata": {},
     "output_type": "execute_result"
    }
   ],
   "source": [
    "nmc.moveLine(4)"
   ]
  },
  {
   "cell_type": "markdown",
   "metadata": {},
   "source": [
    "## 19. Halt Robot Movement\n",
    "Note: `goupHalt` will not work on `movePTP` and `moveLine`. It can work on buit-in contorl command API, such as `groupPtpAcsAll` and `geoupLine`."
   ]
  },
  {
   "cell_type": "code",
   "execution_count": 23,
   "metadata": {},
   "outputs": [
    {
     "data": {
      "text/plain": [
       "0"
      ]
     },
     "execution_count": 23,
     "metadata": {},
     "output_type": "execute_result"
    }
   ],
   "source": [
    "nmc.groupHalt()"
   ]
  },
  {
   "cell_type": "markdown",
   "metadata": {},
   "source": [
    "## 20. Set DO value\n",
    "Use Digital Output to control gripper or suctions. For simulation, this one can skip."
   ]
  },
  {
   "cell_type": "code",
   "execution_count": 24,
   "metadata": {},
   "outputs": [
    {
     "data": {
      "text/plain": [
       "0"
      ]
     },
     "execution_count": 24,
     "metadata": {},
     "output_type": "execute_result"
    }
   ],
   "source": [
    "DO_list = [[0,2,4],[]]  # Turn digital oupt 0, 2, 4 to `on` and other to `off`\n",
    "nmc.writeOutputMemory(DO_list)"
   ]
  },
  {
   "cell_type": "markdown",
   "metadata": {},
   "source": [
    "### Write Script\n",
    "Note: `Run Interact` button and `goupHalt` function is not work in this script (Because it use `movePTP` and `moveLine`). For simulation, this one can skip. If run this cell, it will take a minute to finish. While the below cell busy `[*]`, you can not run other cells."
   ]
  },
  {
   "cell_type": "code",
   "execution_count": 24,
   "metadata": {},
   "outputs": [
    {
     "data": {
      "text/plain": [
       "0"
      ]
     },
     "execution_count": 24,
     "metadata": {},
     "output_type": "execute_result"
    }
   ],
   "source": [
    "import time\n",
    "nmc.movePTP(0)\n",
    "nmc.movePTP(1)\n",
    "nmc.movePTP(2)\n",
    "nmc.moveLine(3)\n",
    "nmc.writeOutputMemory([[2],[]])\n",
    "for i in range(2):\n",
    "    nmc.moveLine(4)\n",
    "    nmc.moveLine(3)\n",
    "nmc.writeOutputMemory([[],[]])\n",
    "nmc.moveLine(2)\n",
    "nmc.moveLine(1)\n",
    "nmc.movePTP(0)\n"
   ]
  },
  {
   "cell_type": "markdown",
   "metadata": {},
   "source": [
    "### Compute Base transformation pose"
   ]
  },
  {
   "cell_type": "code",
   "execution_count": 25,
   "metadata": {},
   "outputs": [
    {
     "name": "stdout",
     "output_type": "stream",
     "text": [
      "[394.001421234, 0.0175899736321, 350.118085994, -179.99477867616073, -0.0, 0.0]\n"
     ]
    }
   ],
   "source": [
    "coordTrans = [0.]*6\n",
    "nmc.baseCalib_2p(nmc.pnt_list[0][6:], nmc.pnt_list[1][6:], coordTrans)\n",
    "print(coordTrans)"
   ]
  },
  {
   "cell_type": "markdown",
   "metadata": {},
   "source": [
    "### Get Transformation matrix"
   ]
  },
  {
   "cell_type": "code",
   "execution_count": 26,
   "metadata": {},
   "outputs": [
    {
     "name": "stdout",
     "output_type": "stream",
     "text": [
      "[[-1.0000e+00  0.0000e+00  0.0000e+00  3.9400e+02]\n",
      " [-0.0000e+00 -1.0000e+00  0.0000e+00  2.0000e-02]\n",
      " [ 0.0000e+00  0.0000e+00  1.0000e+00  3.5012e+02]\n",
      " [ 0.0000e+00  0.0000e+00  0.0000e+00  1.0000e+00]]\n"
     ]
    }
   ],
   "source": [
    "TrMat = nm.pose2matrix(coordTrans)\n",
    "print(np.around(TrMat, decimals=2))"
   ]
  },
  {
   "cell_type": "code",
   "execution_count": 27,
   "metadata": {},
   "outputs": [
    {
     "name": "stdout",
     "output_type": "stream",
     "text": [
      "[250.00236799235495, -199.99188229288225, 264.0110500678096, -0.0011590897949959038, -0.0003993221782678587, 179.9996805714971]\n",
      "[[ -1.    0.   -0.  144. ]\n",
      " [  0.    1.    0.  200. ]\n",
      " [  0.    0.   -1.  -86.1]\n",
      " [  0.    0.    0.    1. ]]\n",
      "[[  54. ]\n",
      " [-150. ]\n",
      " [-150.1]\n",
      " [   1. ]]\n",
      "[[-1.0000e+00  0.0000e+00  0.0000e+00  3.4400e+02]\n",
      " [-0.0000e+00 -1.0000e+00  0.0000e+00  1.0000e-02]\n",
      " [ 0.0000e+00  0.0000e+00  1.0000e+00  3.5012e+02]\n",
      " [ 0.0000e+00  0.0000e+00  0.0000e+00  1.0000e+00]]\n",
      "[[ 1.4400e+02]\n",
      " [-1.0000e-02]\n",
      " [ 3.5012e+02]\n",
      " [ 1.0000e+00]]\n"
     ]
    }
   ],
   "source": [
    "# From robot-base position transform to pixel-based position\n",
    "pos = [0.] * 6\n",
    "nmc.groupGetActualPosPcs(pos)\n",
    "print(pos)\n",
    "TrInv = np.linalg.inv(TrMat)\n",
    "tcpMat = nm.pose2matrix(pos) # [340, 200, 200, 0, 0, 180]\n",
    "print(np.around(TrInv.dot(tcpMat), decimals=1))\n",
    "print(np.around(TrInv.dot(np.mat([340, 150, 200, 1]).transpose()), decimals=1))\n",
    "\n",
    "# From pixel-base position transform to robot-base position\n",
    "pixMat = nm.pose2matrix([50, 0, 0, 0, 0, 0])\n",
    "print(np.around(TrMat.dot(pixMat), decimals=2))\n",
    "print(np.around(TrMat.dot(np.mat([250, 0, 0, 1]).transpose()), decimals=2))"
   ]
  },
  {
   "cell_type": "markdown",
   "metadata": {},
   "source": [
    "### 21. Disable all axes of group (Servo Off)\n",
    "MiniBot will make a sound when it is disabled."
   ]
  },
  {
   "cell_type": "code",
   "execution_count": 28,
   "metadata": {},
   "outputs": [
    {
     "data": {
      "text/plain": [
       "0"
      ]
     },
     "execution_count": 28,
     "metadata": {},
     "output_type": "execute_result"
    }
   ],
   "source": [
    "nmc.groupDisable()"
   ]
  },
  {
   "cell_type": "markdown",
   "metadata": {},
   "source": [
    "### 22. Shutdown device"
   ]
  },
  {
   "cell_type": "code",
   "execution_count": 29,
   "metadata": {},
   "outputs": [
    {
     "data": {
      "text/plain": [
       "0"
      ]
     },
     "execution_count": 29,
     "metadata": {},
     "output_type": "execute_result"
    }
   ],
   "source": [
    "nmc.deviceShutdown()"
   ]
  },
  {
   "cell_type": "code",
   "execution_count": null,
   "metadata": {},
   "outputs": [],
   "source": []
  }
 ],
 "metadata": {
  "kernelspec": {
   "display_name": "Python 3",
   "language": "python",
   "name": "python3"
  },
  "language_info": {
   "codemirror_mode": {
    "name": "ipython",
    "version": 3
   },
   "file_extension": ".py",
   "mimetype": "text/x-python",
   "name": "python",
   "nbconvert_exporter": "python",
   "pygments_lexer": "ipython3",
   "version": "3.7.6"
  }
 },
 "nbformat": 4,
 "nbformat_minor": 4
}
